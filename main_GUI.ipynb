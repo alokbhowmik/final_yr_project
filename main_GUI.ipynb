{
 "cells": [
  {
   "cell_type": "markdown",
   "metadata": {},
   "source": [
    "# import require field"
   ]
  },
  {
   "cell_type": "code",
   "execution_count": 1,
   "metadata": {},
   "outputs": [
    {
     "name": "stdout",
     "output_type": "stream",
     "text": [
      "importing Jupyter notebook from KNNApply.ipynb\n"
     ]
    }
   ],
   "source": [
    "import import_ipynb\n",
    "import KNNApply"
   ]
  },
  {
   "cell_type": "code",
   "execution_count": 2,
   "metadata": {},
   "outputs": [],
   "source": [
    "from KNNApply import showfinalAccurateResult"
   ]
  },
  {
   "cell_type": "code",
   "execution_count": 3,
   "metadata": {},
   "outputs": [],
   "source": [
    "# showfinalAccurateResult([1  , 1, 267,   5,   0])\n",
    "def validation(s):\n",
    "    if len(s)==0:\n",
    "        return False\n",
    "    else:\n",
    "        for character in s:\n",
    "            if not character.isdigit():\n",
    "                return False\n",
    "    return True\n",
    "\n",
    "# set Error Text \n",
    "def setErrorValue(text,lable):\n",
    "    if(len(text)==0):\n",
    "        lable.set(\"Please Enter a Number\")\n",
    "    else:\n",
    "        lable.set(\"This is not a valid Number\")"
   ]
  },
  {
   "cell_type": "code",
   "execution_count": 12,
   "metadata": {},
   "outputs": [
    {
     "name": "stderr",
     "output_type": "stream",
     "text": [
      "E:\\pyhtontextfile\\ANACONDA1\\anaconda3\\lib\\site-packages\\sklearn\\utils\\validation.py:563: FutureWarning: Beginning in version 0.22, arrays of bytes/strings will be converted to decimal numbers if dtype='numeric'. It is recommended that you convert the array to a float dtype before using it in scikit-learn, for example by using your_array = your_array.astype(np.float64).\n",
      "  FutureWarning)\n",
      "E:\\pyhtontextfile\\ANACONDA1\\anaconda3\\lib\\site-packages\\sklearn\\utils\\validation.py:563: FutureWarning: Beginning in version 0.22, arrays of bytes/strings will be converted to decimal numbers if dtype='numeric'. It is recommended that you convert the array to a float dtype before using it in scikit-learn, for example by using your_array = your_array.astype(np.float64).\n",
      "  FutureWarning)\n"
     ]
    }
   ],
   "source": [
    "\n",
    "from tkinter import*\n",
    "from tkinter import messagebox as mb\n",
    "blue=(107,169,244)\n",
    "root = Tk()\n",
    "# root.configure(bg=blue)\n",
    "\n",
    "def success():\n",
    "    mb.showinfo(\"Congrats\",message=\"Congrats You Eligable for Loan\")\n",
    "    \n",
    "def fail():\n",
    "    mb.showerror(title=\"Sorry\",message=\"Sorry,Not Elegable\")\n",
    "root.geometry('500x500')\n",
    "root.title(\"Loan Grant Prediction\")\n",
    "root.iconphoto(False, PhotoImage(file='profit.png'))\n",
    "label_0 = Label(root, text=\"Loan Grant Prediction\",width=20,font=(\"bold\", 20))\n",
    "label_0.place(x=90,y=53)\n",
    "label_1 = Label(root, text=\"Loan Amount\",width=20,font=(\"bold\", 10))\n",
    "label_1.place(x=80,y=130)\n",
    "error_value = StringVar()\n",
    "loan_amount_entry_error = Label(root,font=(\"\",10),fg=\"red\",textvariable=error_value)\n",
    "loan_amount_entry_error.place(x=150,y=150)\n",
    "entry_1 = Entry(root)\n",
    "entry_1.place(x=240,y=130)\n",
    "\n",
    "label_2 = Label(root, text=\"Proparty Area\",width=20,font=(\"bold\", 10))\n",
    "label_2.place(x=68,y=185)\n",
    "options = [\n",
    "    'Rural', 'Semiurban', 'Urban'\n",
    "]\n",
    "variable = StringVar(root)\n",
    "variable.set(options[0])\n",
    "w = OptionMenu(root,variable,*options)\n",
    "w.place(x=240,y=185)\n",
    "# entry_2 = Entry(root)\n",
    "# entry_2.place(x=240,y=180)\n",
    "\n",
    "label_3 = Label(root, text=\"Gender\",width=20,font=(\"bold\", 10))\n",
    "label_3.place(x=70,y=235)\n",
    "label_4 = Label(root, text=\"Education\",width=20,font=(\"bold\", 10))\n",
    "label_4.place(x=70,y=285)\n",
    "label_5 = Label(root, text=\"Cradit Score\",width=20,font=(\"bold\", 10))\n",
    "label_5.place(x=70,y=335)\n",
    "\n",
    "var = IntVar()\n",
    "Radiobutton(root, text=\"Male\",padx = 5, variable=var, value=1).place(x=235,y=235)\n",
    "Radiobutton(root, text=\"Female\",padx = 20, variable=var, value=0).place(x=290,y=235)\n",
    "education = IntVar()\n",
    "Radiobutton(root, text=\"Graduate\",padx = 5, variable=education, value=1).place(x=235,y=285)\n",
    "Radiobutton(root, text=\"not Graduate\",padx = 20, variable=education, value=0).place(x=320,y=285)\n",
    "\n",
    "cradit_value = IntVar()\n",
    "Radiobutton(root, text=\"1\",padx = 5, variable=cradit_value, value=1).place(x=235,y=335)\n",
    "Radiobutton(root, text=\"0\",padx = 20, variable=cradit_value, value=0).place(x=320,y=335)\n",
    "\n",
    "def getData():\n",
    "    dic = {\n",
    "        'Rural':0, 'Semiurban':1, 'Urban':2\n",
    "    }\n",
    "    loanAmount = entry_1.get()\n",
    "    if(validation(loanAmount)):\n",
    "        error_value.set(\"\")\n",
    "        area = dic[variable.get()]\n",
    "        gender = var.get()\n",
    "        ed = education.get()\n",
    "        crd_value = cradit_value.get()\n",
    "        \n",
    "        result = showfinalAccurateResult([loanAmount,area,gender,ed,crd_value])\n",
    "        if(result[0]==1):\n",
    "                success()\n",
    "        else:\n",
    "                fail()\n",
    "#         lable_text.set(\"Chance of Getting Loan :\"+str(result) +\"%\")\n",
    "    else:\n",
    "        setErrorValue(loanAmount,error_value)\n",
    "#     print(showfinalAccurateResult([loanAmount,area,gender,ed,crd_value]))\n",
    "#     print(area)\n",
    "# At last, we have to add a submit button to s\n",
    "lable_text = StringVar()\n",
    "label_10 = Label(root,textvariable = lable_text,width=40,font=(\"\", 12))\n",
    "label_10.place(x=90,y=380)\n",
    "Button(root, text='Submit',width=20,bg='brown',fg='white',command=getData).place(x=180,y=425)\n",
    "root.mainloop()"
   ]
  },
  {
   "cell_type": "code",
   "execution_count": null,
   "metadata": {},
   "outputs": [],
   "source": []
  },
  {
   "cell_type": "code",
   "execution_count": 5,
   "metadata": {},
   "outputs": [],
   "source": [
    "# fail()"
   ]
  },
  {
   "cell_type": "code",
   "execution_count": 6,
   "metadata": {},
   "outputs": [],
   "source": [
    "# from tkinter import *\n",
    "# msg = Message(text=\"Oh by the way, which one's Pink?\")\n",
    "# msg.config(bg='pink', font=('times', 16, 'italic'))\n",
    "# msg.pack()\n",
    "# mainloop()"
   ]
  },
  {
   "cell_type": "code",
   "execution_count": null,
   "metadata": {},
   "outputs": [],
   "source": []
  },
  {
   "cell_type": "code",
   "execution_count": null,
   "metadata": {},
   "outputs": [],
   "source": []
  },
  {
   "cell_type": "code",
   "execution_count": null,
   "metadata": {},
   "outputs": [],
   "source": []
  }
 ],
 "metadata": {
  "kernelspec": {
   "display_name": "Python 3",
   "language": "python",
   "name": "python3"
  },
  "language_info": {
   "codemirror_mode": {
    "name": "ipython",
    "version": 3
   },
   "file_extension": ".py",
   "mimetype": "text/x-python",
   "name": "python",
   "nbconvert_exporter": "python",
   "pygments_lexer": "ipython3",
   "version": "3.7.1"
  }
 },
 "nbformat": 4,
 "nbformat_minor": 2
}
