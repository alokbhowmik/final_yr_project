{
 "cells": [
  {
   "cell_type": "markdown",
   "metadata": {},
   "source": [
    "# import require field"
   ]
  },
  {
   "cell_type": "code",
   "execution_count": 1,
   "metadata": {},
   "outputs": [
    {
     "name": "stdout",
     "output_type": "stream",
     "text": [
      "importing Jupyter notebook from logistic_regression.ipynb\n"
     ]
    },
    {
     "name": "stderr",
     "output_type": "stream",
     "text": [
      "E:\\pyhtontextfile\\ANACONDA1\\anaconda3\\lib\\site-packages\\sklearn\\linear_model\\logistic.py:433: FutureWarning: Default solver will be changed to 'lbfgs' in 0.22. Specify a solver to silence this warning.\n",
      "  FutureWarning)\n"
     ]
    }
   ],
   "source": [
    "import import_ipynb\n",
    "import logistic_regression"
   ]
  },
  {
   "cell_type": "code",
   "execution_count": 2,
   "metadata": {},
   "outputs": [],
   "source": [
    "from logistic_regression import showfinalAccurateResult"
   ]
  },
  {
   "cell_type": "code",
   "execution_count": 3,
   "metadata": {},
   "outputs": [],
   "source": [
    "# showfinalAccurateResult([1  , 1, 267,   5,   0])\n"
   ]
  },
  {
   "cell_type": "code",
   "execution_count": 45,
   "metadata": {},
   "outputs": [],
   "source": [
    "from tkinter import*\n",
    "from tkinter import*\n",
    "root = Tk()\n",
    "root.geometry('500x500')\n",
    "root.title(\"Loan Grant Prediction\")\n",
    "root.iconphoto(False, PhotoImage(file='profit.png'))\n",
    "label_0 = Label(root, text=\"Loan Grant Prediction\",width=20,font=(\"bold\", 20))\n",
    "label_0.place(x=90,y=53)\n",
    "label_1 = Label(root, text=\"Loan Amount\",width=20,font=(\"bold\", 10))\n",
    "label_1.place(x=80,y=130)\n",
    "entry_1 = Entry(root)\n",
    "entry_1.place(x=240,y=130)\n",
    "\n",
    "label_2 = Label(root, text=\"Proparty Area\",width=20,font=(\"bold\", 10))\n",
    "label_2.place(x=68,y=180)\n",
    "options = [\n",
    "    'Rural', 'Semiurban', 'Urban'\n",
    "]\n",
    "variable = StringVar(root)\n",
    "variable.set(options[0])\n",
    "w = OptionMenu(root,variable,*options)\n",
    "w.place(x=240,y=180)\n",
    "# entry_2 = Entry(root)\n",
    "# entry_2.place(x=240,y=180)\n",
    "\n",
    "label_3 = Label(root, text=\"Gender\",width=20,font=(\"bold\", 10))\n",
    "label_3.place(x=70,y=230)\n",
    "label_4 = Label(root, text=\"Education\",width=20,font=(\"bold\", 10))\n",
    "label_4.place(x=70,y=280)\n",
    "label_5 = Label(root, text=\"Cradit Score\",width=20,font=(\"bold\", 10))\n",
    "label_5.place(x=70,y=330)\n",
    "\n",
    "var = IntVar()\n",
    "Radiobutton(root, text=\"Male\",padx = 5, variable=var, value=1).place(x=235,y=230)\n",
    "Radiobutton(root, text=\"Female\",padx = 20, variable=var, value=0).place(x=290,y=230)\n",
    "education = IntVar()\n",
    "Radiobutton(root, text=\"Graduate\",padx = 5, variable=education, value=1).place(x=235,y=280)\n",
    "Radiobutton(root, text=\"not Graduate\",padx = 20, variable=education, value=0).place(x=320,y=280)\n",
    "\n",
    "cradit_value = IntVar()\n",
    "Radiobutton(root, text=\"1\",padx = 5, variable=cradit_value, value=1).place(x=235,y=330)\n",
    "Radiobutton(root, text=\"0\",padx = 20, variable=cradit_value, value=0).place(x=320,y=330)\n",
    "\n",
    "def getData():\n",
    "    dic = {\n",
    "        'Rural':0, 'Semiurban':1, 'Urban':2\n",
    "    }\n",
    "    loanAmount = entry_1.get()\n",
    "    area = dic[variable.get()]\n",
    "    gender = var.get()\n",
    "    ed = education.get()\n",
    "    crd_value = cradit_value.get()\n",
    "    result = format(showfinalAccurateResult([loanAmount,area,gender,ed,crd_value])*100,'.2f')\n",
    "    lable_text.set(\"Chance of Getting Loan :\"+str(result) +\"%\")\n",
    "    print(showfinalAccurateResult([loanAmount,area,gender,ed,crd_value]))\n",
    "    print(area)\n",
    "# At last, we have to add a submit button to s\n",
    "lable_text = StringVar()\n",
    "label_10 = Label(root,textvariable = lable_text,width=40,font=(\"\", 12))\n",
    "label_10.place(x=90,y=380)\n",
    "Button(root, text='Submit',width=20,bg='brown',fg='white',command=getData).place(x=180,y=420)\n",
    "root.mainloop()"
   ]
  },
  {
   "cell_type": "code",
   "execution_count": null,
   "metadata": {},
   "outputs": [],
   "source": []
  },
  {
   "cell_type": "code",
   "execution_count": null,
   "metadata": {},
   "outputs": [],
   "source": []
  },
  {
   "cell_type": "code",
   "execution_count": null,
   "metadata": {},
   "outputs": [],
   "source": []
  },
  {
   "cell_type": "code",
   "execution_count": null,
   "metadata": {},
   "outputs": [],
   "source": []
  },
  {
   "cell_type": "code",
   "execution_count": null,
   "metadata": {},
   "outputs": [],
   "source": []
  },
  {
   "cell_type": "code",
   "execution_count": null,
   "metadata": {},
   "outputs": [],
   "source": []
  }
 ],
 "metadata": {
  "kernelspec": {
   "display_name": "Python 3",
   "language": "python",
   "name": "python3"
  },
  "language_info": {
   "codemirror_mode": {
    "name": "ipython",
    "version": 3
   },
   "file_extension": ".py",
   "mimetype": "text/x-python",
   "name": "python",
   "nbconvert_exporter": "python",
   "pygments_lexer": "ipython3",
   "version": "3.7.1"
  }
 },
 "nbformat": 4,
 "nbformat_minor": 2
}
